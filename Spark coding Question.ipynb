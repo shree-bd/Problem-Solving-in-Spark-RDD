{
 "cells": [
  {
   "cell_type": "code",
   "execution_count": null,
   "id": "144d5262-ea7a-47cf-a00a-6833e89af2e9",
   "metadata": {},
   "outputs": [],
   "source": [
    "# Question:\n",
    "# Write a script for the below scenario either in PySpark (or) Spark Scala. \n",
    "\n",
    "# Note: \n",
    "# Code only using Spark RDD. \n",
    "# Dataframe or Dataset should not be used\n",
    "# Candidate can use Spark of version 2.4 or above\n",
    "\n",
    "# 1. Read the input testfile (Pipe delimited) provided as a \"Spark RDD\" \n",
    "\n",
    "# 2. Remove the Header Record from the RDD\n",
    "\n",
    "# 3. Calculate Final_Price:\n",
    "\n",
    "#        Final_Price = (Size * Price_SQ_FT)\n",
    "\n",
    "# 4. Save the final rdd asTextfile with three fields\n",
    "\n",
    "#         Property_ID|Location|Final_Price"
   ]
  },
  {
   "cell_type": "code",
   "execution_count": 1,
   "id": "53918d8e-fde9-464f-98e2-35bc9decf4fb",
   "metadata": {},
   "outputs": [
    {
     "name": "stdout",
     "output_type": "stream",
     "text": [
      "Defaulting to user installation because normal site-packages is not writeable\n",
      "Requirement already satisfied: findspark in c:\\users\\shrid\\appdata\\roaming\\python\\python311\\site-packages (2.0.1)\n",
      "Note: you may need to restart the kernel to use updated packages.\n"
     ]
    }
   ],
   "source": [
    "pip install findspark"
   ]
  },
  {
   "cell_type": "code",
   "execution_count": 3,
   "id": "ef3d9c81-5d96-43c4-990f-0d8728a133ee",
   "metadata": {},
   "outputs": [],
   "source": [
    "import findspark\n",
    "findspark.init()"
   ]
  },
  {
   "cell_type": "code",
   "execution_count": 61,
   "id": "c5e63faf-d506-4736-bc78-4056689c241f",
   "metadata": {},
   "outputs": [],
   "source": [
    "# Create SparkSession and SparkContext\n",
    "from pyspark.sql import SparkSession\n",
    "spark= SparkSession.builder\\\n",
    "                    .master(\"local\")\\\n",
    "                    .appName('Assignment 2')\\\n",
    "                    .getOrCreate()\n",
    "\n",
    "sc=spark.sparkContext"
   ]
  },
  {
   "cell_type": "code",
   "execution_count": 7,
   "id": "5c42c5f3-c0a2-4e6d-9e98-8b8c4f906b44",
   "metadata": {},
   "outputs": [
    {
     "data": {
      "text/plain": [
       "'3.5.0'"
      ]
     },
     "execution_count": 7,
     "metadata": {},
     "output_type": "execute_result"
    }
   ],
   "source": [
    "spark.version"
   ]
  },
  {
   "cell_type": "code",
   "execution_count": 62,
   "id": "563e2447-6257-4ce1-b116-c64d6b9378b6",
   "metadata": {},
   "outputs": [],
   "source": [
    "# read the input file as RDD usinf spark context\n",
    "input_file = \"input_real_estate.txt\"\n",
    "rdd_in=sc.textFile(input_file)"
   ]
  },
  {
   "cell_type": "code",
   "execution_count": 63,
   "id": "dfd3089c-a82e-4aed-a4c7-df23e6cc7fd8",
   "metadata": {},
   "outputs": [],
   "source": [
    "# Retrieve and parse the header row\n",
    "header = rdd_in.first()\n",
    "header_names = header.split(\"|\")"
   ]
  },
  {
   "cell_type": "code",
   "execution_count": 64,
   "id": "98e00ec7-07a2-42ca-a063-40f2d8a76ecb",
   "metadata": {},
   "outputs": [
    {
     "name": "stdout",
     "output_type": "stream",
     "text": [
      "['Property_ID', 'Location', 'Price', 'Bedrooms', 'Bathrooms', 'Size', 'Price_SQ_FT', 'Status']\n"
     ]
    }
   ],
   "source": [
    "# Print the header names\n",
    "print(header_names)"
   ]
  },
  {
   "cell_type": "code",
   "execution_count": 65,
   "id": "68a6c22e-96ed-44f9-ab3f-9f9f661d8c7c",
   "metadata": {},
   "outputs": [
    {
     "data": {
      "text/plain": [
       "['Property_ID|Location|Price|Bedrooms|Bathrooms|Size|Price_SQ_FT|Status',\n",
       " '1461262|Arroyo Grande|795000|3|3|2371|365.3|Short Sale',\n",
       " '1478004|Paulo Pablo|399000|4|3|2818|163.59|Short Sale',\n",
       " '1486551|Paulo Pablo|545000|4|3|3032|179.75|Short Sale',\n",
       " '1492832|Santa Bay|909000|4|4|3540|286.78|Short Sale',\n",
       " '1499102|Thomas Country|109900|3|1|1249|98.99|Short Sale',\n",
       " '1489132|Thomas Country|109000|2|1|1129|93.99|Short Sale',\n",
       " '1467262|Fort Worth|987000|4|3|2771|465.3|Short Sale',\n",
       " '1478114|Paulo Pablo|409000|4|3|2918|223.19|Short Sale',\n",
       " '1402551|Nashville|545000|4|3|2932|169.75|Short Sale',\n",
       " '1405832|San Jose|980000|4|4|3340|290.98|Short Sale',\n",
       " '1493302|Fort Worth|119900|3|2|2249|198.99|Short Sale',\n",
       " '1412332|Thomas Country|129000|3|2|1329|73.99|Short Sale',\n",
       " '1469062|Arroyo Grande|798000|3|4|2321|235.9|Short Sale',\n",
       " '1498004|Nashville|789000|4|3|2419|263.59|Short Sale',\n",
       " '1586751|Nashville|896000|4|3|3132|199.75|Short Sale',\n",
       " '1433232|Glendale|987000|4|4|3340|216.78|Short Sale',\n",
       " '1495502|Fort Worth|219900|3|2|987|200.99|Short Sale',\n",
       " '1489100|San Jose|107200|1|1|789|78.99|Short Sale']"
      ]
     },
     "execution_count": 65,
     "metadata": {},
     "output_type": "execute_result"
    }
   ],
   "source": [
    "rdd_in.collect()"
   ]
  },
  {
   "cell_type": "code",
   "execution_count": 78,
   "id": "43cdd7fb-8575-4e1e-9ffd-42209f95f6a3",
   "metadata": {},
   "outputs": [],
   "source": [
    "# Apply filter to separate header and data\n",
    "header = rdd_in.filter(lambda l: l.startswith(\"Property_ID\"))\n",
    "rdd1 = rdd_in.filter(lambda l: not l.startswith(\"Property_ID\"))"
   ]
  },
  {
   "cell_type": "code",
   "execution_count": 79,
   "id": "fc984162-bf05-420d-aebd-155aa8a17932",
   "metadata": {},
   "outputs": [],
   "source": [
    "# Apply Map and flatMap to get the column data\n",
    "rdd2 = rdd1.flatMap(lambda x:x.split(',')).map(lambda x:x.split('|'))"
   ]
  },
  {
   "cell_type": "code",
   "execution_count": 80,
   "id": "824630b2-79f4-4cc3-8e2b-a459c1072b92",
   "metadata": {},
   "outputs": [
    {
     "data": {
      "text/plain": [
       "[['1461262',\n",
       "  'Arroyo Grande',\n",
       "  '795000',\n",
       "  '3',\n",
       "  '3',\n",
       "  '2371',\n",
       "  '365.3',\n",
       "  'Short Sale'],\n",
       " ['1478004',\n",
       "  'Paulo Pablo',\n",
       "  '399000',\n",
       "  '4',\n",
       "  '3',\n",
       "  '2818',\n",
       "  '163.59',\n",
       "  'Short Sale'],\n",
       " ['1486551',\n",
       "  'Paulo Pablo',\n",
       "  '545000',\n",
       "  '4',\n",
       "  '3',\n",
       "  '3032',\n",
       "  '179.75',\n",
       "  'Short Sale'],\n",
       " ['1492832', 'Santa Bay', '909000', '4', '4', '3540', '286.78', 'Short Sale']]"
      ]
     },
     "execution_count": 80,
     "metadata": {},
     "output_type": "execute_result"
    }
   ],
   "source": [
    "rdd2.take(4)"
   ]
  },
  {
   "cell_type": "code",
   "execution_count": 87,
   "id": "216ba653-b5ed-4bec-97b8-b9e067cd9b42",
   "metadata": {},
   "outputs": [],
   "source": [
    "#Get the index of the required column\n",
    "col_list=header.first().split('|')\n",
    "f1=col_list.index(\"Property_ID\")\n",
    "f2=col_list.index(\"Location\")\n",
    "f3=col_list.index(\"Size\")\n",
    "f4=col_list.index(\"Price_SQ_FT\")"
   ]
  },
  {
   "cell_type": "code",
   "execution_count": 86,
   "id": "ec15afc6-2d97-4ad1-aa56-66c86a840deb",
   "metadata": {},
   "outputs": [],
   "source": [
    "#Function definition to calculate the final price\n",
    "def mul_price(d1,d2):\n",
    "    res=float(d1)*float(d2)\n",
    "    return str(res)"
   ]
  },
  {
   "cell_type": "code",
   "execution_count": 90,
   "id": "f846686d-703f-4688-90e4-51c98ceb0028",
   "metadata": {},
   "outputs": [],
   "source": [
    "#Call the function and create final result as expected\n",
    "header_out=header.map(lambda x: x.split(\"|\")[f1]+\"|\"+x.split(\"|\")[f2]+\"|Final_Price\")\n",
    "rdd3=rdd2.map(lambda x: x[f1]+\"|\"+x[f2]+\"|\"+ mul_price(x[f3],x[f4]))\n",
    "\n",
    "final_out=header_out.union(rdd3)"
   ]
  },
  {
   "cell_type": "code",
   "execution_count": 100,
   "id": "7240a3a2-69d3-40c8-80ed-d9a4117fdf82",
   "metadata": {},
   "outputs": [
    {
     "data": {
      "text/plain": [
       "['Property_ID|Location|Final_Price',\n",
       " '1461262|Arroyo Grande|866126.3',\n",
       " '1478004|Paulo Pablo|460996.62',\n",
       " '1486551|Paulo Pablo|545002.0',\n",
       " '1492832|Santa Bay|1015201.2',\n",
       " '1499102|Thomas Country|123638.51',\n",
       " '1489132|Thomas Country|106114.70999999999',\n",
       " '1467262|Fort Worth|1289346.3',\n",
       " '1478114|Paulo Pablo|651268.42',\n",
       " '1402551|Nashville|497707.0',\n",
       " '1405832|San Jose|971873.2000000001',\n",
       " '1493302|Fort Worth|447528.51',\n",
       " '1412332|Thomas Country|98332.70999999999',\n",
       " '1469062|Arroyo Grande|547523.9',\n",
       " '1498004|Nashville|637624.21',\n",
       " '1586751|Nashville|625617.0',\n",
       " '1433232|Glendale|724045.2',\n",
       " '1495502|Fort Worth|198377.13',\n",
       " '1489100|San Jose|62323.10999999999']"
      ]
     },
     "execution_count": 100,
     "metadata": {},
     "output_type": "execute_result"
    }
   ],
   "source": [
    "final_out.collect()"
   ]
  },
  {
   "cell_type": "code",
   "execution_count": 110,
   "id": "0dcc6c81-120c-4c50-831d-e8a4e4190f40",
   "metadata": {},
   "outputs": [
    {
     "ename": "Py4JJavaError",
     "evalue": "An error occurred while calling o551.saveAsTextFile.\n: org.apache.hadoop.mapred.FileAlreadyExistsException: Output directory file:/C:/Users/shrid/Desktop/Apache Spark/solution.txt already exists\r\n\tat org.apache.hadoop.mapred.FileOutputFormat.checkOutputSpecs(FileOutputFormat.java:131)\r\n\tat org.apache.spark.internal.io.HadoopMapRedWriteConfigUtil.assertConf(SparkHadoopWriter.scala:299)\r\n\tat org.apache.spark.internal.io.SparkHadoopWriter$.write(SparkHadoopWriter.scala:71)\r\n\tat org.apache.spark.rdd.PairRDDFunctions.$anonfun$saveAsHadoopDataset$1(PairRDDFunctions.scala:1091)\r\n\tat scala.runtime.java8.JFunction0$mcV$sp.apply(JFunction0$mcV$sp.java:23)\r\n\tat org.apache.spark.rdd.RDDOperationScope$.withScope(RDDOperationScope.scala:151)\r\n\tat org.apache.spark.rdd.RDDOperationScope$.withScope(RDDOperationScope.scala:112)\r\n\tat org.apache.spark.rdd.RDD.withScope(RDD.scala:407)\r\n\tat org.apache.spark.rdd.PairRDDFunctions.saveAsHadoopDataset(PairRDDFunctions.scala:1089)\r\n\tat org.apache.spark.rdd.PairRDDFunctions.$anonfun$saveAsHadoopFile$4(PairRDDFunctions.scala:1062)\r\n\tat scala.runtime.java8.JFunction0$mcV$sp.apply(JFunction0$mcV$sp.java:23)\r\n\tat org.apache.spark.rdd.RDDOperationScope$.withScope(RDDOperationScope.scala:151)\r\n\tat org.apache.spark.rdd.RDDOperationScope$.withScope(RDDOperationScope.scala:112)\r\n\tat org.apache.spark.rdd.RDD.withScope(RDD.scala:407)\r\n\tat org.apache.spark.rdd.PairRDDFunctions.saveAsHadoopFile(PairRDDFunctions.scala:1027)\r\n\tat org.apache.spark.rdd.PairRDDFunctions.$anonfun$saveAsHadoopFile$3(PairRDDFunctions.scala:1009)\r\n\tat scala.runtime.java8.JFunction0$mcV$sp.apply(JFunction0$mcV$sp.java:23)\r\n\tat org.apache.spark.rdd.RDDOperationScope$.withScope(RDDOperationScope.scala:151)\r\n\tat org.apache.spark.rdd.RDDOperationScope$.withScope(RDDOperationScope.scala:112)\r\n\tat org.apache.spark.rdd.RDD.withScope(RDD.scala:407)\r\n\tat org.apache.spark.rdd.PairRDDFunctions.saveAsHadoopFile(PairRDDFunctions.scala:1008)\r\n\tat org.apache.spark.rdd.PairRDDFunctions.$anonfun$saveAsHadoopFile$2(PairRDDFunctions.scala:965)\r\n\tat scala.runtime.java8.JFunction0$mcV$sp.apply(JFunction0$mcV$sp.java:23)\r\n\tat org.apache.spark.rdd.RDDOperationScope$.withScope(RDDOperationScope.scala:151)\r\n\tat org.apache.spark.rdd.RDDOperationScope$.withScope(RDDOperationScope.scala:112)\r\n\tat org.apache.spark.rdd.RDD.withScope(RDD.scala:407)\r\n\tat org.apache.spark.rdd.PairRDDFunctions.saveAsHadoopFile(PairRDDFunctions.scala:963)\r\n\tat org.apache.spark.rdd.RDD.$anonfun$saveAsTextFile$2(RDD.scala:1620)\r\n\tat scala.runtime.java8.JFunction0$mcV$sp.apply(JFunction0$mcV$sp.java:23)\r\n\tat org.apache.spark.rdd.RDDOperationScope$.withScope(RDDOperationScope.scala:151)\r\n\tat org.apache.spark.rdd.RDDOperationScope$.withScope(RDDOperationScope.scala:112)\r\n\tat org.apache.spark.rdd.RDD.withScope(RDD.scala:407)\r\n\tat org.apache.spark.rdd.RDD.saveAsTextFile(RDD.scala:1620)\r\n\tat org.apache.spark.rdd.RDD.$anonfun$saveAsTextFile$1(RDD.scala:1606)\r\n\tat scala.runtime.java8.JFunction0$mcV$sp.apply(JFunction0$mcV$sp.java:23)\r\n\tat org.apache.spark.rdd.RDDOperationScope$.withScope(RDDOperationScope.scala:151)\r\n\tat org.apache.spark.rdd.RDDOperationScope$.withScope(RDDOperationScope.scala:112)\r\n\tat org.apache.spark.rdd.RDD.withScope(RDD.scala:407)\r\n\tat org.apache.spark.rdd.RDD.saveAsTextFile(RDD.scala:1606)\r\n\tat org.apache.spark.api.java.JavaRDDLike.saveAsTextFile(JavaRDDLike.scala:564)\r\n\tat org.apache.spark.api.java.JavaRDDLike.saveAsTextFile$(JavaRDDLike.scala:563)\r\n\tat org.apache.spark.api.java.AbstractJavaRDDLike.saveAsTextFile(JavaRDDLike.scala:45)\r\n\tat jdk.internal.reflect.GeneratedMethodAccessor64.invoke(Unknown Source)\r\n\tat java.base/jdk.internal.reflect.DelegatingMethodAccessorImpl.invoke(DelegatingMethodAccessorImpl.java:52)\r\n\tat java.base/java.lang.reflect.Method.invoke(Method.java:580)\r\n\tat py4j.reflection.MethodInvoker.invoke(MethodInvoker.java:244)\r\n\tat py4j.reflection.ReflectionEngine.invoke(ReflectionEngine.java:374)\r\n\tat py4j.Gateway.invoke(Gateway.java:282)\r\n\tat py4j.commands.AbstractCommand.invokeMethod(AbstractCommand.java:132)\r\n\tat py4j.commands.CallCommand.execute(CallCommand.java:79)\r\n\tat py4j.ClientServerConnection.waitForCommands(ClientServerConnection.java:182)\r\n\tat py4j.ClientServerConnection.run(ClientServerConnection.java:106)\r\n\tat java.base/java.lang.Thread.run(Thread.java:1583)\r\n",
     "output_type": "error",
     "traceback": [
      "\u001b[1;31m---------------------------------------------------------------------------\u001b[0m",
      "\u001b[1;31mPy4JJavaError\u001b[0m                             Traceback (most recent call last)",
      "Cell \u001b[1;32mIn[110], line 2\u001b[0m\n\u001b[0;32m      1\u001b[0m \u001b[38;5;66;03m#Save the final Spark RDD as textfile\u001b[39;00m\n\u001b[1;32m----> 2\u001b[0m final_out\u001b[38;5;241m.\u001b[39msaveAsTextFile(\u001b[38;5;124mr\u001b[39m\u001b[38;5;124m\"\u001b[39m\u001b[38;5;124mC:\u001b[39m\u001b[38;5;124m\\\u001b[39m\u001b[38;5;124mUsers\u001b[39m\u001b[38;5;124m\\\u001b[39m\u001b[38;5;124mshrid\u001b[39m\u001b[38;5;124m\\\u001b[39m\u001b[38;5;124mDesktop\u001b[39m\u001b[38;5;124m\\\u001b[39m\u001b[38;5;124mApache Spark\u001b[39m\u001b[38;5;124m\\\u001b[39m\u001b[38;5;124msolution.txt\u001b[39m\u001b[38;5;124m\"\u001b[39m)\n",
      "File \u001b[1;32mC:\\spark\\spark-3.5.0\\python\\pyspark\\rdd.py:3425\u001b[0m, in \u001b[0;36mRDD.saveAsTextFile\u001b[1;34m(self, path, compressionCodecClass)\u001b[0m\n\u001b[0;32m   3423\u001b[0m     keyed\u001b[38;5;241m.\u001b[39m_jrdd\u001b[38;5;241m.\u001b[39mmap(\u001b[38;5;28mself\u001b[39m\u001b[38;5;241m.\u001b[39mctx\u001b[38;5;241m.\u001b[39m_jvm\u001b[38;5;241m.\u001b[39mBytesToString())\u001b[38;5;241m.\u001b[39msaveAsTextFile(path, compressionCodec)\n\u001b[0;32m   3424\u001b[0m \u001b[38;5;28;01melse\u001b[39;00m:\n\u001b[1;32m-> 3425\u001b[0m     keyed\u001b[38;5;241m.\u001b[39m_jrdd\u001b[38;5;241m.\u001b[39mmap(\u001b[38;5;28mself\u001b[39m\u001b[38;5;241m.\u001b[39mctx\u001b[38;5;241m.\u001b[39m_jvm\u001b[38;5;241m.\u001b[39mBytesToString())\u001b[38;5;241m.\u001b[39msaveAsTextFile(path)\n",
      "File \u001b[1;32mC:\\spark\\spark-3.5.0\\python\\lib\\py4j-0.10.9.7-src.zip\\py4j\\java_gateway.py:1322\u001b[0m, in \u001b[0;36mJavaMember.__call__\u001b[1;34m(self, *args)\u001b[0m\n\u001b[0;32m   1316\u001b[0m command \u001b[38;5;241m=\u001b[39m proto\u001b[38;5;241m.\u001b[39mCALL_COMMAND_NAME \u001b[38;5;241m+\u001b[39m\\\n\u001b[0;32m   1317\u001b[0m     \u001b[38;5;28mself\u001b[39m\u001b[38;5;241m.\u001b[39mcommand_header \u001b[38;5;241m+\u001b[39m\\\n\u001b[0;32m   1318\u001b[0m     args_command \u001b[38;5;241m+\u001b[39m\\\n\u001b[0;32m   1319\u001b[0m     proto\u001b[38;5;241m.\u001b[39mEND_COMMAND_PART\n\u001b[0;32m   1321\u001b[0m answer \u001b[38;5;241m=\u001b[39m \u001b[38;5;28mself\u001b[39m\u001b[38;5;241m.\u001b[39mgateway_client\u001b[38;5;241m.\u001b[39msend_command(command)\n\u001b[1;32m-> 1322\u001b[0m return_value \u001b[38;5;241m=\u001b[39m get_return_value(\n\u001b[0;32m   1323\u001b[0m     answer, \u001b[38;5;28mself\u001b[39m\u001b[38;5;241m.\u001b[39mgateway_client, \u001b[38;5;28mself\u001b[39m\u001b[38;5;241m.\u001b[39mtarget_id, \u001b[38;5;28mself\u001b[39m\u001b[38;5;241m.\u001b[39mname)\n\u001b[0;32m   1325\u001b[0m \u001b[38;5;28;01mfor\u001b[39;00m temp_arg \u001b[38;5;129;01min\u001b[39;00m temp_args:\n\u001b[0;32m   1326\u001b[0m     \u001b[38;5;28;01mif\u001b[39;00m \u001b[38;5;28mhasattr\u001b[39m(temp_arg, \u001b[38;5;124m\"\u001b[39m\u001b[38;5;124m_detach\u001b[39m\u001b[38;5;124m\"\u001b[39m):\n",
      "File \u001b[1;32mC:\\spark\\spark-3.5.0\\python\\pyspark\\errors\\exceptions\\captured.py:179\u001b[0m, in \u001b[0;36mcapture_sql_exception.<locals>.deco\u001b[1;34m(*a, **kw)\u001b[0m\n\u001b[0;32m    177\u001b[0m \u001b[38;5;28;01mdef\u001b[39;00m \u001b[38;5;21mdeco\u001b[39m(\u001b[38;5;241m*\u001b[39ma: Any, \u001b[38;5;241m*\u001b[39m\u001b[38;5;241m*\u001b[39mkw: Any) \u001b[38;5;241m-\u001b[39m\u001b[38;5;241m>\u001b[39m Any:\n\u001b[0;32m    178\u001b[0m     \u001b[38;5;28;01mtry\u001b[39;00m:\n\u001b[1;32m--> 179\u001b[0m         \u001b[38;5;28;01mreturn\u001b[39;00m f(\u001b[38;5;241m*\u001b[39ma, \u001b[38;5;241m*\u001b[39m\u001b[38;5;241m*\u001b[39mkw)\n\u001b[0;32m    180\u001b[0m     \u001b[38;5;28;01mexcept\u001b[39;00m Py4JJavaError \u001b[38;5;28;01mas\u001b[39;00m e:\n\u001b[0;32m    181\u001b[0m         converted \u001b[38;5;241m=\u001b[39m convert_exception(e\u001b[38;5;241m.\u001b[39mjava_exception)\n",
      "File \u001b[1;32mC:\\spark\\spark-3.5.0\\python\\lib\\py4j-0.10.9.7-src.zip\\py4j\\protocol.py:326\u001b[0m, in \u001b[0;36mget_return_value\u001b[1;34m(answer, gateway_client, target_id, name)\u001b[0m\n\u001b[0;32m    324\u001b[0m value \u001b[38;5;241m=\u001b[39m OUTPUT_CONVERTER[\u001b[38;5;28mtype\u001b[39m](answer[\u001b[38;5;241m2\u001b[39m:], gateway_client)\n\u001b[0;32m    325\u001b[0m \u001b[38;5;28;01mif\u001b[39;00m answer[\u001b[38;5;241m1\u001b[39m] \u001b[38;5;241m==\u001b[39m REFERENCE_TYPE:\n\u001b[1;32m--> 326\u001b[0m     \u001b[38;5;28;01mraise\u001b[39;00m Py4JJavaError(\n\u001b[0;32m    327\u001b[0m         \u001b[38;5;124m\"\u001b[39m\u001b[38;5;124mAn error occurred while calling \u001b[39m\u001b[38;5;132;01m{0}\u001b[39;00m\u001b[38;5;132;01m{1}\u001b[39;00m\u001b[38;5;132;01m{2}\u001b[39;00m\u001b[38;5;124m.\u001b[39m\u001b[38;5;130;01m\\n\u001b[39;00m\u001b[38;5;124m\"\u001b[39m\u001b[38;5;241m.\u001b[39m\n\u001b[0;32m    328\u001b[0m         \u001b[38;5;28mformat\u001b[39m(target_id, \u001b[38;5;124m\"\u001b[39m\u001b[38;5;124m.\u001b[39m\u001b[38;5;124m\"\u001b[39m, name), value)\n\u001b[0;32m    329\u001b[0m \u001b[38;5;28;01melse\u001b[39;00m:\n\u001b[0;32m    330\u001b[0m     \u001b[38;5;28;01mraise\u001b[39;00m Py4JError(\n\u001b[0;32m    331\u001b[0m         \u001b[38;5;124m\"\u001b[39m\u001b[38;5;124mAn error occurred while calling \u001b[39m\u001b[38;5;132;01m{0}\u001b[39;00m\u001b[38;5;132;01m{1}\u001b[39;00m\u001b[38;5;132;01m{2}\u001b[39;00m\u001b[38;5;124m. Trace:\u001b[39m\u001b[38;5;130;01m\\n\u001b[39;00m\u001b[38;5;132;01m{3}\u001b[39;00m\u001b[38;5;130;01m\\n\u001b[39;00m\u001b[38;5;124m\"\u001b[39m\u001b[38;5;241m.\u001b[39m\n\u001b[0;32m    332\u001b[0m         \u001b[38;5;28mformat\u001b[39m(target_id, \u001b[38;5;124m\"\u001b[39m\u001b[38;5;124m.\u001b[39m\u001b[38;5;124m\"\u001b[39m, name, value))\n",
      "\u001b[1;31mPy4JJavaError\u001b[0m: An error occurred while calling o551.saveAsTextFile.\n: org.apache.hadoop.mapred.FileAlreadyExistsException: Output directory file:/C:/Users/shrid/Desktop/Apache Spark/solution.txt already exists\r\n\tat org.apache.hadoop.mapred.FileOutputFormat.checkOutputSpecs(FileOutputFormat.java:131)\r\n\tat org.apache.spark.internal.io.HadoopMapRedWriteConfigUtil.assertConf(SparkHadoopWriter.scala:299)\r\n\tat org.apache.spark.internal.io.SparkHadoopWriter$.write(SparkHadoopWriter.scala:71)\r\n\tat org.apache.spark.rdd.PairRDDFunctions.$anonfun$saveAsHadoopDataset$1(PairRDDFunctions.scala:1091)\r\n\tat scala.runtime.java8.JFunction0$mcV$sp.apply(JFunction0$mcV$sp.java:23)\r\n\tat org.apache.spark.rdd.RDDOperationScope$.withScope(RDDOperationScope.scala:151)\r\n\tat org.apache.spark.rdd.RDDOperationScope$.withScope(RDDOperationScope.scala:112)\r\n\tat org.apache.spark.rdd.RDD.withScope(RDD.scala:407)\r\n\tat org.apache.spark.rdd.PairRDDFunctions.saveAsHadoopDataset(PairRDDFunctions.scala:1089)\r\n\tat org.apache.spark.rdd.PairRDDFunctions.$anonfun$saveAsHadoopFile$4(PairRDDFunctions.scala:1062)\r\n\tat scala.runtime.java8.JFunction0$mcV$sp.apply(JFunction0$mcV$sp.java:23)\r\n\tat org.apache.spark.rdd.RDDOperationScope$.withScope(RDDOperationScope.scala:151)\r\n\tat org.apache.spark.rdd.RDDOperationScope$.withScope(RDDOperationScope.scala:112)\r\n\tat org.apache.spark.rdd.RDD.withScope(RDD.scala:407)\r\n\tat org.apache.spark.rdd.PairRDDFunctions.saveAsHadoopFile(PairRDDFunctions.scala:1027)\r\n\tat org.apache.spark.rdd.PairRDDFunctions.$anonfun$saveAsHadoopFile$3(PairRDDFunctions.scala:1009)\r\n\tat scala.runtime.java8.JFunction0$mcV$sp.apply(JFunction0$mcV$sp.java:23)\r\n\tat org.apache.spark.rdd.RDDOperationScope$.withScope(RDDOperationScope.scala:151)\r\n\tat org.apache.spark.rdd.RDDOperationScope$.withScope(RDDOperationScope.scala:112)\r\n\tat org.apache.spark.rdd.RDD.withScope(RDD.scala:407)\r\n\tat org.apache.spark.rdd.PairRDDFunctions.saveAsHadoopFile(PairRDDFunctions.scala:1008)\r\n\tat org.apache.spark.rdd.PairRDDFunctions.$anonfun$saveAsHadoopFile$2(PairRDDFunctions.scala:965)\r\n\tat scala.runtime.java8.JFunction0$mcV$sp.apply(JFunction0$mcV$sp.java:23)\r\n\tat org.apache.spark.rdd.RDDOperationScope$.withScope(RDDOperationScope.scala:151)\r\n\tat org.apache.spark.rdd.RDDOperationScope$.withScope(RDDOperationScope.scala:112)\r\n\tat org.apache.spark.rdd.RDD.withScope(RDD.scala:407)\r\n\tat org.apache.spark.rdd.PairRDDFunctions.saveAsHadoopFile(PairRDDFunctions.scala:963)\r\n\tat org.apache.spark.rdd.RDD.$anonfun$saveAsTextFile$2(RDD.scala:1620)\r\n\tat scala.runtime.java8.JFunction0$mcV$sp.apply(JFunction0$mcV$sp.java:23)\r\n\tat org.apache.spark.rdd.RDDOperationScope$.withScope(RDDOperationScope.scala:151)\r\n\tat org.apache.spark.rdd.RDDOperationScope$.withScope(RDDOperationScope.scala:112)\r\n\tat org.apache.spark.rdd.RDD.withScope(RDD.scala:407)\r\n\tat org.apache.spark.rdd.RDD.saveAsTextFile(RDD.scala:1620)\r\n\tat org.apache.spark.rdd.RDD.$anonfun$saveAsTextFile$1(RDD.scala:1606)\r\n\tat scala.runtime.java8.JFunction0$mcV$sp.apply(JFunction0$mcV$sp.java:23)\r\n\tat org.apache.spark.rdd.RDDOperationScope$.withScope(RDDOperationScope.scala:151)\r\n\tat org.apache.spark.rdd.RDDOperationScope$.withScope(RDDOperationScope.scala:112)\r\n\tat org.apache.spark.rdd.RDD.withScope(RDD.scala:407)\r\n\tat org.apache.spark.rdd.RDD.saveAsTextFile(RDD.scala:1606)\r\n\tat org.apache.spark.api.java.JavaRDDLike.saveAsTextFile(JavaRDDLike.scala:564)\r\n\tat org.apache.spark.api.java.JavaRDDLike.saveAsTextFile$(JavaRDDLike.scala:563)\r\n\tat org.apache.spark.api.java.AbstractJavaRDDLike.saveAsTextFile(JavaRDDLike.scala:45)\r\n\tat jdk.internal.reflect.GeneratedMethodAccessor64.invoke(Unknown Source)\r\n\tat java.base/jdk.internal.reflect.DelegatingMethodAccessorImpl.invoke(DelegatingMethodAccessorImpl.java:52)\r\n\tat java.base/java.lang.reflect.Method.invoke(Method.java:580)\r\n\tat py4j.reflection.MethodInvoker.invoke(MethodInvoker.java:244)\r\n\tat py4j.reflection.ReflectionEngine.invoke(ReflectionEngine.java:374)\r\n\tat py4j.Gateway.invoke(Gateway.java:282)\r\n\tat py4j.commands.AbstractCommand.invokeMethod(AbstractCommand.java:132)\r\n\tat py4j.commands.CallCommand.execute(CallCommand.java:79)\r\n\tat py4j.ClientServerConnection.waitForCommands(ClientServerConnection.java:182)\r\n\tat py4j.ClientServerConnection.run(ClientServerConnection.java:106)\r\n\tat java.base/java.lang.Thread.run(Thread.java:1583)\r\n"
     ]
    }
   ],
   "source": [
    "#Save the final Spark RDD as textfile\n",
    "final_out.saveAsTextFile(r\"C:\\Users\\shrid\\Desktop\\Apache Spark\\solution.txt\")"
   ]
  }
 ],
 "metadata": {
  "kernelspec": {
   "display_name": "Python 3 (ipykernel)",
   "language": "python",
   "name": "python3"
  },
  "language_info": {
   "codemirror_mode": {
    "name": "ipython",
    "version": 3
   },
   "file_extension": ".py",
   "mimetype": "text/x-python",
   "name": "python",
   "nbconvert_exporter": "python",
   "pygments_lexer": "ipython3",
   "version": "3.11.7"
  }
 },
 "nbformat": 4,
 "nbformat_minor": 5
}
